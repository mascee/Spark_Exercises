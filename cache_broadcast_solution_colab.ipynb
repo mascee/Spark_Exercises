{
  "cells": [
    {
      "cell_type": "markdown",
      "metadata": {
        "id": "view-in-github",
        "colab_type": "text"
      },
      "source": [
        "<a href=\"https://colab.research.google.com/github/mascee/Spark_Exercises/blob/main/cache_broadcast_solution_colab.ipynb\" target=\"_parent\"><img src=\"https://colab.research.google.com/assets/colab-badge.svg\" alt=\"Open In Colab\"/></a>"
      ]
    },
    {
      "cell_type": "code",
      "execution_count": 2,
      "metadata": {
        "colab": {
          "base_uri": "https://localhost:8080/"
        },
        "id": "eGA5-htN6oEN",
        "outputId": "9b3741e5-d330-44ca-fb04-2e58af03a1c5"
      },
      "outputs": [
        {
          "output_type": "stream",
          "name": "stdout",
          "text": [
            "\r0% [Working]\r            \rGet:1 https://cloud.r-project.org/bin/linux/ubuntu jammy-cran40/ InRelease [3,626 B]\n",
            "\r0% [Connecting to archive.ubuntu.com] [Waiting for headers] [1 InRelease 3,626 B/3,626 B 100%] [Conn\r0% [Connecting to archive.ubuntu.com] [Waiting for headers] [Connected to r2u.stat.illinois.edu (192\r                                                                                                    \rGet:2 http://security.ubuntu.com/ubuntu jammy-security InRelease [129 kB]\n",
            "\r0% [Connecting to archive.ubuntu.com (91.189.91.81)] [2 InRelease 12.7 kB/129 kB 10%] [Waiting for h\r0% [Waiting for headers] [2 InRelease 15.6 kB/129 kB 12%] [Waiting for headers] [Waiting for headers\r                                                                                                    \rGet:3 https://cloud.r-project.org/bin/linux/ubuntu jammy-cran40/ Packages [61.9 kB]\n",
            "\r0% [Waiting for headers] [2 InRelease 15.6 kB/129 kB 12%] [Waiting for headers] [Waiting for headers\r0% [3 Packages store 99.1 kB] [Waiting for headers] [2 InRelease 15.6 kB/129 kB 12%] [Waiting for he\r0% [Waiting for headers] [2 InRelease 15.6 kB/129 kB 12%] [Waiting for headers] [Waiting for headers\r                                                                                                    \rGet:4 https://developer.download.nvidia.com/compute/cuda/repos/ubuntu2204/x86_64  InRelease [1,581 B]\n",
            "Hit:5 http://archive.ubuntu.com/ubuntu jammy InRelease\n",
            "Get:6 https://r2u.stat.illinois.edu/ubuntu jammy InRelease [6,555 B]\n",
            "Get:7 https://developer.download.nvidia.com/compute/cuda/repos/ubuntu2204/x86_64  Packages [1,200 kB]\n",
            "Get:8 http://archive.ubuntu.com/ubuntu jammy-updates InRelease [128 kB]\n",
            "Get:9 http://archive.ubuntu.com/ubuntu jammy-backports InRelease [127 kB]\n",
            "Hit:10 https://ppa.launchpadcontent.net/deadsnakes/ppa/ubuntu jammy InRelease\n",
            "Get:11 https://r2u.stat.illinois.edu/ubuntu jammy/main amd64 Packages [2,645 kB]\n",
            "Hit:12 https://ppa.launchpadcontent.net/ubuntugis/ppa/ubuntu jammy InRelease\n",
            "Get:13 https://r2u.stat.illinois.edu/ubuntu jammy/main all Packages [8,599 kB]\n",
            "Get:14 https://ppa.launchpadcontent.net/graphics-drivers/ppa/ubuntu jammy InRelease [24.3 kB]\n",
            "Get:15 http://security.ubuntu.com/ubuntu jammy-security/multiverse amd64 Packages [45.2 kB]\n",
            "Get:16 http://security.ubuntu.com/ubuntu jammy-security/restricted amd64 Packages [3,527 kB]\n",
            "Get:17 http://security.ubuntu.com/ubuntu jammy-security/universe amd64 Packages [1,227 kB]\n",
            "Get:18 http://security.ubuntu.com/ubuntu jammy-security/main amd64 Packages [2,560 kB]\n",
            "Get:19 http://archive.ubuntu.com/ubuntu jammy-updates/restricted amd64 Packages [3,663 kB]\n",
            "Get:20 http://archive.ubuntu.com/ubuntu jammy-updates/main amd64 Packages [2,859 kB]\n",
            "Get:21 http://archive.ubuntu.com/ubuntu jammy-updates/universe amd64 Packages [1,518 kB]\n",
            "Fetched 16.0 MB in 5s (3,501 kB/s)\n",
            "Reading package lists... Done\n",
            "W: Skipping acquire of configured file 'main/source/Sources' as repository 'https://r2u.stat.illinois.edu/ubuntu jammy InRelease' does not seem to provide it (sources.list entry misspelt?)\n"
          ]
        }
      ],
      "source": [
        "import os\n",
        "# Find the latest version of spark 3.x  from https://downloads.apache.org/spark/ and enter as the spark version\n",
        "# For example:\n",
        "# spark_version = 'spark-3.5.4'\n",
        "spark_version = 'spark-3.5.4'\n",
        "os.environ['SPARK_VERSION']=spark_version\n",
        "\n",
        "# Install Spark and Java\n",
        "!apt-get update\n",
        "!apt-get install openjdk-11-jdk-headless -qq > /dev/null\n",
        "!wget -q https://downloads.apache.org/spark/$SPARK_VERSION/$SPARK_VERSION-bin-hadoop3.tgz\n",
        "!tar xf $SPARK_VERSION-bin-hadoop3.tgz\n",
        "!pip install -q findspark\n",
        "\n",
        "# Set Environment Variables\n",
        "os.environ[\"JAVA_HOME\"] = \"/usr/lib/jvm/java-11-openjdk-amd64\"\n",
        "os.environ[\"SPARK_HOME\"] = f\"/content/{spark_version}-bin-hadoop3\"\n",
        "\n",
        "# Start a SparkSession\n",
        "import findspark\n",
        "findspark.init()"
      ]
    },
    {
      "cell_type": "code",
      "execution_count": 3,
      "metadata": {
        "id": "pIUo9MYO6vlj"
      },
      "outputs": [],
      "source": [
        "# Import packages\n",
        "from pyspark.sql import SparkSession\n",
        "import time\n",
        "\n",
        "# Create a SparkSession\n",
        "spark = SparkSession.builder\\\n",
        "    .appName(\"SparkSQL\")\\\n",
        "    .config(\"spark.sql.debug.maxToStringFields\", 2000)\\\n",
        "    .config(\"spark.driver.memory\", \"2g\")\\\n",
        "    .getOrCreate()"
      ]
    },
    {
      "cell_type": "code",
      "execution_count": 4,
      "metadata": {
        "colab": {
          "base_uri": "https://localhost:8080/"
        },
        "id": "Ej6Sabcd-1At",
        "outputId": "e41a24b0-3856-4c03-9411-b9e13c07d960"
      },
      "outputs": [
        {
          "output_type": "stream",
          "name": "stdout",
          "text": [
            "+---+----+-----+----------+---------+-------+----------+-------+----------+-------------+---------+-------+-----------------+--------------+-------+--------+--------+------+----+--------+------+-------+---------+----------------+--------+------------+------------+--------+-------------+-----------------+\n",
            "| id|Year|Month|DayofMonth|DayOfWeek|DepTime|CRSDepTime|ArrTime|CRSArrTime|UniqueCarrier|FlightNum|TailNum|ActualElapsedTime|CRSElapsedTime|AirTime|ArrDelay|DepDelay|Origin|Dest|Distance|TaxiIn|TaxiOut|Cancelled|CancellationCode|Diverted|CarrierDelay|WeatherDelay|NASDelay|SecurityDelay|LateAircraftDelay|\n",
            "+---+----+-----+----------+---------+-------+----------+-------+----------+-------------+---------+-------+-----------------+--------------+-------+--------+--------+------+----+--------+------+-------+---------+----------------+--------+------------+------------+--------+-------------+-----------------+\n",
            "|  0|2008|    1|         3|        4|   2003|      1955|   2211|      2225|           WN|      335| N712SW|              128|           150|    116|     -14|       8|   IAD| TPA|     810|     4|      8|        0|               N|       0|        NULL|        NULL|    NULL|         NULL|             NULL|\n",
            "|  1|2008|    1|         3|        4|    754|       735|   1002|      1000|           WN|     3231| N772SW|              128|           145|    113|       2|      19|   IAD| TPA|     810|     5|     10|        0|               N|       0|        NULL|        NULL|    NULL|         NULL|             NULL|\n",
            "|  2|2008|    1|         3|        4|    628|       620|    804|       750|           WN|      448| N428WN|               96|            90|     76|      14|       8|   IND| BWI|     515|     3|     17|        0|               N|       0|        NULL|        NULL|    NULL|         NULL|             NULL|\n",
            "|  4|2008|    1|         3|        4|   1829|      1755|   1959|      1925|           WN|     3920| N464WN|               90|            90|     77|      34|      34|   IND| BWI|     515|     3|     10|        0|               N|       0|           2|           0|       0|            0|               32|\n",
            "|  5|2008|    1|         3|        4|   1940|      1915|   2121|      2110|           WN|      378| N726SW|              101|           115|     87|      11|      25|   IND| JAX|     688|     4|     10|        0|               N|       0|        NULL|        NULL|    NULL|         NULL|             NULL|\n",
            "|  6|2008|    1|         3|        4|   1937|      1830|   2037|      1940|           WN|      509| N763SW|              240|           250|    230|      57|      67|   IND| LAS|    1591|     3|      7|        0|               N|       0|          10|           0|       0|            0|               47|\n",
            "| 10|2008|    1|         3|        4|    706|       700|    916|       915|           WN|      100| N690SW|              130|           135|    106|       1|       6|   IND| MCO|     828|     5|     19|        0|               N|       0|        NULL|        NULL|    NULL|         NULL|             NULL|\n",
            "| 11|2008|    1|         3|        4|   1644|      1510|   1845|      1725|           WN|     1333| N334SW|              121|           135|    107|      80|      94|   IND| MCO|     828|     6|      8|        0|               N|       0|           8|           0|       0|            0|               72|\n",
            "| 15|2008|    1|         3|        4|   1029|      1020|   1021|      1010|           WN|     2272| N263WN|               52|            50|     37|      11|       9|   IND| MDW|     162|     6|      9|        0|               N|       0|        NULL|        NULL|    NULL|         NULL|             NULL|\n",
            "| 16|2008|    1|         3|        4|   1452|      1425|   1640|      1625|           WN|      675| N286WN|              228|           240|    213|      15|      27|   IND| PHX|    1489|     7|      8|        0|               N|       0|           3|           0|       0|            0|               12|\n",
            "| 17|2008|    1|         3|        4|    754|       745|    940|       955|           WN|     1144| N778SW|              226|           250|    205|     -15|       9|   IND| PHX|    1489|     5|     16|        0|               N|       0|        NULL|        NULL|    NULL|         NULL|             NULL|\n",
            "| 18|2008|    1|         3|        4|   1323|      1255|   1526|      1510|           WN|        4| N674AA|              123|           135|    110|      16|      28|   IND| TPA|     838|     4|      9|        0|               N|       0|           0|           0|       0|            0|               16|\n",
            "| 19|2008|    1|         3|        4|   1416|      1325|   1512|      1435|           WN|       54| N643SW|               56|            70|     49|      37|      51|   ISP| BWI|     220|     2|      5|        0|               N|       0|          12|           0|       0|            0|               25|\n",
            "| 21|2008|    1|         3|        4|   1657|      1625|   1754|      1735|           WN|      623| N724SW|               57|            70|     47|      19|      32|   ISP| BWI|     220|     5|      5|        0|               N|       0|           7|           0|       0|            0|               12|\n",
            "| 22|2008|    1|         3|        4|   1900|      1840|   1956|      1950|           WN|      717| N786SW|               56|            70|     49|       6|      20|   ISP| BWI|     220|     2|      5|        0|               N|       0|        NULL|        NULL|    NULL|         NULL|             NULL|\n",
            "| 23|2008|    1|         3|        4|   1039|      1030|   1133|      1140|           WN|     1244| N714CB|               54|            70|     47|      -7|       9|   ISP| BWI|     220|     2|      5|        0|               N|       0|        NULL|        NULL|    NULL|         NULL|             NULL|\n",
            "| 25|2008|    1|         3|        4|   1520|      1455|   1619|      1605|           WN|     2553| N394SW|               59|            70|     50|      14|      25|   ISP| BWI|     220|     2|      7|        0|               N|       0|        NULL|        NULL|    NULL|         NULL|             NULL|\n",
            "| 26|2008|    1|         3|        4|   1422|      1255|   1657|      1610|           WN|      188| N215WN|              155|           195|    143|      47|      87|   ISP| FLL|    1093|     6|      6|        0|               N|       0|          40|           0|       0|            0|                7|\n",
            "| 27|2008|    1|         3|        4|   1954|      1925|   2239|      2235|           WN|     1754| N243WN|              165|           190|    155|       4|      29|   ISP| FLL|    1093|     3|      7|        0|               N|       0|        NULL|        NULL|    NULL|         NULL|             NULL|\n",
            "| 30|2008|    1|         3|        4|   2107|      1945|   2334|      2230|           WN|      362| N798SW|              147|           165|    134|      64|      82|   ISP| MCO|     972|     6|      7|        0|               N|       0|           5|           0|       0|            0|               59|\n",
            "+---+----+-----+----------+---------+-------+----------+-------+----------+-------------+---------+-------+-----------------+--------------+-------+--------+--------+------+----+--------+------+-------+---------+----------------+--------+------------+------------+--------+-------------+-----------------+\n",
            "only showing top 20 rows\n",
            "\n"
          ]
        }
      ],
      "source": [
        "# Read in data from S3 Bucket\n",
        "from pyspark import SparkFiles\n",
        "flights_url = \"https://2u-data-curriculum-team.s3.amazonaws.com/dataviz-classroom/v1.2/22-big-data/3/DelayedFlights.csv\"\n",
        "spark.sparkContext.addFile(flights_url)\n",
        "flights_df = spark.read.csv(SparkFiles.get(\"DelayedFlights.csv\"), sep=\",\", header=True)\n",
        "\n",
        "# Show the delayed flight data.\n",
        "flights_df.show()"
      ]
    },
    {
      "cell_type": "code",
      "execution_count": 5,
      "metadata": {
        "colab": {
          "base_uri": "https://localhost:8080/"
        },
        "id": "q0mhM9KxQkXS",
        "outputId": "2684cde1-a6d4-4655-db4b-97e9e4add809"
      },
      "outputs": [
        {
          "output_type": "stream",
          "name": "stdout",
          "text": [
            "+--------------+--------------------+-----------+\n",
            "|          City|             country|airportCode|\n",
            "+--------------+--------------------+-----------+\n",
            "|       Aalborg|             Denmark|        AAL|\n",
            "|      Aalesund|              Norway|        AES|\n",
            "|        Aarhus|             Denmark|        AAR|\n",
            "|Abbotsford, BC|              Canada|        YXX|\n",
            "|Abbotsford, BC|              Canada|        YXX|\n",
            "|      Aberdeen|            Scotland|        ABZ|\n",
            "|  Aberdeen, SD|                 USA|        ABR|\n",
            "|       Abidjan|         Ivory Coast|        ABJ|\n",
            "|   Abilene, TX|                 USA|        ABI|\n",
            "|     Abu Dhabi|United Arab Emirates|        AUH|\n",
            "|         Abuja|             Nigeria|        ABV|\n",
            "|      Acapulco|              Mexico|        ACA|\n",
            "|         Accra|               Ghana|        ACC|\n",
            "|         Adana|              Turkey|        ADA|\n",
            "|   Addis Ababa|            Ethiopia|        ADD|\n",
            "|Adelaide, S.A.|           Australia|        ADL|\n",
            "|          Aden|               Yemen|        ADE|\n",
            "|      Adiyaman|              Turkey|        ADF|\n",
            "|        Agadir|             Morocco|        AGA|\n",
            "|         Agana|                Guam|        GUM|\n",
            "+--------------+--------------------+-----------+\n",
            "only showing top 20 rows\n",
            "\n"
          ]
        }
      ],
      "source": [
        "# Read in the airport codes from an S3 Bucket\n",
        "airportCodes_url = \"https://2u-data-curriculum-team.s3.amazonaws.com/dataviz-classroom/v1.2/22-big-data/3/airportCodes.csv\"\n",
        "spark.sparkContext.addFile(airportCodes_url)\n",
        "\n",
        "# The airport codes will be a lookup DataFrame\n",
        "airportCodes_lookup = spark.read.csv(SparkFiles.get(\"airportCodes.csv\"), sep=',', header=True)\n",
        "\n",
        "#  Show the lookup table data.\n",
        "airportCodes_lookup.show()"
      ]
    },
    {
      "cell_type": "code",
      "execution_count": 6,
      "metadata": {
        "id": "qDfaP9NvQnh9"
      },
      "outputs": [],
      "source": [
        "# Recall that the default shuffle partitions is 200.\n",
        "# We want to bring that down to a reasonable size for both our data and our Spark cluster\n",
        "# A good rule of thumb is two times the number of cores.\n",
        "spark.conf.set(\"spark.sql.shuffle.partitions\", 8)"
      ]
    },
    {
      "cell_type": "code",
      "execution_count": 7,
      "metadata": {
        "id": "1LV1-sZ2QpZB"
      },
      "outputs": [],
      "source": [
        "# Create temporary views for each of our dataframes\n",
        "flights_df.createOrReplaceTempView('delayed')\n",
        "\n",
        "airportCodes_lookup.createOrReplaceTempView('lookup')"
      ]
    },
    {
      "cell_type": "code",
      "execution_count": 8,
      "metadata": {
        "colab": {
          "base_uri": "https://localhost:8080/"
        },
        "id": "L_hKqNbW_EnA",
        "outputId": "0f9122c3-c72b-412d-a6cc-a6ea99b80ccd"
      },
      "outputs": [
        {
          "output_type": "stream",
          "name": "stdout",
          "text": [
            "+----+-----+----------+---------+-------+----------+-------+----------+-------------+---------+-------+-----------------+--------------+-------+--------+--------+------+---------------+----+---------------+--------+------+-------+---------+----------------+--------+------------+------------+--------+-------------+-----------------+\n",
            "|Year|Month|DayofMonth|DayOfWeek|DepTime|CRSDepTime|ArrTime|CRSArrTime|UniqueCarrier|FlightNum|TailNum|ActualElapsedTime|CRSElapsedTime|AirTime|ArrDelay|DepDelay|Origin|    Origin_City|Dest|      Dest_City|Distance|TaxiIn|TaxiOut|Cancelled|CancellationCode|Diverted|CarrierDelay|WeatherDelay|NASDelay|SecurityDelay|LateAircraftDelay|\n",
            "+----+-----+----------+---------+-------+----------+-------+----------+-------------+---------+-------+-----------------+--------------+-------+--------+--------+------+---------------+----+---------------+--------+------+-------+---------+----------------+--------+------------+------------+--------+-------------+-----------------+\n",
            "|2008|    1|         4|        5|   2003|      1845|   2207|      2040|           WN|      746| N667SW|               64|            55|     44|      87|      78|   ABQ|Albuquerque, NM| AMA|   Amarillo, TX|     277|     5|     15|        0|               N|       0|           0|           0|       9|            0|               78|\n",
            "|2008|    1|         4|        5|   1332|      1325|   1437|      1440|           WN|      182| N313SW|               65|            75|     54|      -3|       7|   ALB|     Albany, NY| BWI|  Baltimore, MD|     288|     3|      8|        0|               N|       0|        NULL|        NULL|    NULL|         NULL|             NULL|\n",
            "|2008|    1|         4|        5|   1020|      1005|   1128|      1120|           WN|      733| N650SW|               68|            75|     58|       8|      15|   ALB|     Albany, NY| BWI|  Baltimore, MD|     288|     3|      7|        0|               N|       0|        NULL|        NULL|    NULL|         NULL|             NULL|\n",
            "|2008|    1|         4|        5|   1831|      1820|   1941|      1935|           WN|     1861| N783SW|               70|            75|     57|       6|      11|   ALB|     Albany, NY| BWI|  Baltimore, MD|     288|     3|     10|        0|               N|       0|        NULL|        NULL|    NULL|         NULL|             NULL|\n",
            "|2008|    1|         4|        5|   1758|      1750|   2051|      2040|           WN|     2036| N660SW|              113|           110|    100|      11|       8|   BHM| Birmingham, AL| BWI|  Baltimore, MD|     682|     3|     10|        0|               N|       0|        NULL|        NULL|    NULL|         NULL|             NULL|\n",
            "|2008|    1|         4|        5|    836|       830|    943|       940|           WN|      922| N650SW|               67|            70|     55|       3|       6|   BWI|  Baltimore, MD| ALB|     Albany, NY|     288|     2|     10|        0|               N|       0|        NULL|        NULL|    NULL|         NULL|             NULL|\n",
            "|2008|    1|         4|        5|   1652|      1645|   1755|      1755|           WN|     1774| N783SW|               63|            70|     51|       0|       7|   BWI|  Baltimore, MD| ALB|     Albany, NY|     288|     5|      7|        0|               N|       0|        NULL|        NULL|    NULL|         NULL|             NULL|\n",
            "|2008|    1|         4|        5|   1035|      1025|   1143|      1135|           WN|     3569| N276WN|               68|            70|     53|       8|      10|   BWI|  Baltimore, MD| ALB|     Albany, NY|     288|     5|     10|        0|               N|       0|        NULL|        NULL|    NULL|         NULL|             NULL|\n",
            "|2008|    1|         4|        5|   1828|      1805|   1917|      1915|           WN|      623| N757LV|              109|           130|     97|       2|      23|   BWI|  Baltimore, MD| BHM| Birmingham, AL|     682|     3|      9|        0|               N|       0|        NULL|        NULL|    NULL|         NULL|             NULL|\n",
            "|2008|    1|         4|        5|   1317|      1310|   1401|      1420|           WN|     1857| N280WN|              104|           130|     95|     -19|       7|   BWI|  Baltimore, MD| BHM| Birmingham, AL|     682|     2|      7|        0|               N|       0|        NULL|        NULL|    NULL|         NULL|             NULL|\n",
            "|2008|    1|         5|        6|   2001|      1845|   2150|      2040|           WN|      746| N412WN|               49|            55|     39|      70|      76|   ABQ|Albuquerque, NM| AMA|   Amarillo, TX|     277|     4|      6|        0|               N|       0|           3|           0|       0|            0|               67|\n",
            "|2008|    1|         5|        6|   1124|      1005|   1227|      1120|           WN|      733| N794SW|               63|            75|     50|      67|      79|   ALB|     Albany, NY| BWI|  Baltimore, MD|     288|     3|     10|        0|               N|       0|          67|           0|       0|            0|                0|\n",
            "|2008|    1|         5|        6|   1544|      1515|   1654|      1630|           WN|     3046| N723SW|               70|            75|     56|      24|      29|   ALB|     Albany, NY| BWI|  Baltimore, MD|     288|     4|     10|        0|               N|       0|          11|           0|       0|            0|               13|\n",
            "|2008|    1|         5|        6|   1426|      1415|   1832|      1815|           WN|     1001| N366SW|              186|           180|    164|      17|      11|   AUS|     Austin, TX| BWI|  Baltimore, MD|    1342|     4|     18|        0|               N|       0|           0|           0|       6|            0|               11|\n",
            "|2008|    1|         5|        6|   1806|      1750|   2047|      2040|           WN|     2036| N614SW|              101|           110|     88|       7|      16|   BHM| Birmingham, AL| BWI|  Baltimore, MD|     682|     3|     10|        0|               N|       0|        NULL|        NULL|    NULL|         NULL|             NULL|\n",
            "|2008|    1|         5|        6|   1508|      1425|   1719|      1655|           WN|      644| N737JW|              251|           270|    237|      24|      43|   BWI|  Baltimore, MD| ABQ|Albuquerque, NM|    1670|     5|      9|        0|               N|       0|           8|           0|       0|            0|               16|\n",
            "|2008|    1|         5|        6|   1808|      1755|   1909|      1905|           WN|      236| N708SA|               61|            70|     49|       4|      13|   BWI|  Baltimore, MD| ALB|     Albany, NY|     288|     3|      9|        0|               N|       0|        NULL|        NULL|    NULL|         NULL|             NULL|\n",
            "|2008|    1|         5|        6|   1359|      1340|   1506|      1450|           WN|      323| N723SW|               67|            70|     53|      16|      19|   BWI|  Baltimore, MD| ALB|     Albany, NY|     288|     3|     11|        0|               N|       0|           6|           0|       0|            0|               10|\n",
            "|2008|    1|         5|        6|   1433|      1420|   1700|      1710|           WN|      160| N264LV|              207|           230|    196|     -10|      13|   BWI|  Baltimore, MD| AUS|     Austin, TX|    1342|     4|      7|        0|               N|       0|        NULL|        NULL|    NULL|         NULL|             NULL|\n",
            "|2008|    1|         5|        6|   1814|      1805|   1910|      1915|           WN|      623| N624SW|              116|           130|    105|      -5|       9|   BWI|  Baltimore, MD| BHM| Birmingham, AL|     682|     4|      7|        0|               N|       0|        NULL|        NULL|    NULL|         NULL|             NULL|\n",
            "+----+-----+----------+---------+-------+----------+-------+----------+-------------+---------+-------+-----------------+--------------+-------+--------+--------+------+---------------+----+---------------+--------+------+-------+---------+----------------+--------+------------+------------+--------+-------------+-----------------+\n",
            "only showing top 20 rows\n",
            "\n",
            "--- 2.5017871856689453 seconds ---\n"
          ]
        }
      ],
      "source": [
        "# This first query joins our airport code lookup data to our delayed fligts table\n",
        "# By default Spark does a broadcast join when the Join table is < 10MB.  This is configurable\n",
        "# but since our table is VERY small, it will auto-broadcast.\n",
        "\n",
        "start_time = time.time()\n",
        "\n",
        "spark.sql(\"\"\"\n",
        "select a.Year,\n",
        "a.Month,\n",
        "a.DayofMonth,\n",
        "a.DayOfWeek,\n",
        "a.DepTime,\n",
        "a.CRSDepTime,\n",
        "a.ArrTime,\n",
        "a.CRSArrTime,\n",
        "a.UniqueCarrier,\n",
        "a.FlightNum,\n",
        "a.TailNum,\n",
        "a.ActualElapsedTime,\n",
        "a.CRSElapsedTime,\n",
        "a.AirTime,\n",
        "a.ArrDelay,\n",
        "a.DepDelay,\n",
        "a.Origin,\n",
        "b.City as Origin_City,\n",
        "a.Dest,\n",
        "c.City as Dest_City,\n",
        "a.Distance,\n",
        "a.TaxiIn,\n",
        "a.TaxiOut,\n",
        "a.Cancelled,\n",
        "a.CancellationCode,\n",
        "a.Diverted,\n",
        "a.CarrierDelay,\n",
        "a.WeatherDelay,\n",
        "a.NASDelay,\n",
        "a.SecurityDelay,\n",
        "a.LateAircraftDelay from delayed a\n",
        "  inner join lookup b\n",
        "    on a.Origin=b.airportCode\n",
        "  inner join lookup c\n",
        "    on a.Dest=c.airportCode\n",
        "\"\"\").show()\n",
        "\n",
        "print(\"--- %s seconds ---\" % (time.time() - start_time))"
      ]
    },
    {
      "cell_type": "code",
      "execution_count": 10,
      "metadata": {
        "colab": {
          "base_uri": "https://localhost:8080/"
        },
        "id": "vujvlsjxSj7N",
        "outputId": "1c16f562-01f3-4214-c8bb-8694f3152a71"
      },
      "outputs": [
        {
          "output_type": "stream",
          "name": "stdout",
          "text": [
            "+----+-----+----------+---------+-------+----------+-------+----------+-------------+---------+-------+-----------------+--------------+-------+--------+--------+------+---------------+----+---------------+--------+------+-------+---------+----------------+--------+------------+------------+--------+-------------+-----------------+\n",
            "|Year|Month|DayofMonth|DayOfWeek|DepTime|CRSDepTime|ArrTime|CRSArrTime|UniqueCarrier|FlightNum|TailNum|ActualElapsedTime|CRSElapsedTime|AirTime|ArrDelay|DepDelay|Origin|    Origin_City|Dest|       Dep_City|Distance|TaxiIn|TaxiOut|Cancelled|CancellationCode|Diverted|CarrierDelay|WeatherDelay|NASDelay|SecurityDelay|LateAircraftDelay|\n",
            "+----+-----+----------+---------+-------+----------+-------+----------+-------------+---------+-------+-----------------+--------------+-------+--------+--------+------+---------------+----+---------------+--------+------+-------+---------+----------------+--------+------------+------------+--------+-------------+-----------------+\n",
            "|2008|    1|         4|        5|   2003|      1845|   2207|      2040|           WN|      746| N667SW|               64|            55|     44|      87|      78|   ABQ|Albuquerque, NM| AMA|   Amarillo, TX|     277|     5|     15|        0|               N|       0|           0|           0|       9|            0|               78|\n",
            "|2008|    1|         4|        5|   1332|      1325|   1437|      1440|           WN|      182| N313SW|               65|            75|     54|      -3|       7|   ALB|     Albany, NY| BWI|  Baltimore, MD|     288|     3|      8|        0|               N|       0|        NULL|        NULL|    NULL|         NULL|             NULL|\n",
            "|2008|    1|         4|        5|   1020|      1005|   1128|      1120|           WN|      733| N650SW|               68|            75|     58|       8|      15|   ALB|     Albany, NY| BWI|  Baltimore, MD|     288|     3|      7|        0|               N|       0|        NULL|        NULL|    NULL|         NULL|             NULL|\n",
            "|2008|    1|         4|        5|   1831|      1820|   1941|      1935|           WN|     1861| N783SW|               70|            75|     57|       6|      11|   ALB|     Albany, NY| BWI|  Baltimore, MD|     288|     3|     10|        0|               N|       0|        NULL|        NULL|    NULL|         NULL|             NULL|\n",
            "|2008|    1|         4|        5|   1758|      1750|   2051|      2040|           WN|     2036| N660SW|              113|           110|    100|      11|       8|   BHM| Birmingham, AL| BWI|  Baltimore, MD|     682|     3|     10|        0|               N|       0|        NULL|        NULL|    NULL|         NULL|             NULL|\n",
            "|2008|    1|         4|        5|    836|       830|    943|       940|           WN|      922| N650SW|               67|            70|     55|       3|       6|   BWI|  Baltimore, MD| ALB|     Albany, NY|     288|     2|     10|        0|               N|       0|        NULL|        NULL|    NULL|         NULL|             NULL|\n",
            "|2008|    1|         4|        5|   1652|      1645|   1755|      1755|           WN|     1774| N783SW|               63|            70|     51|       0|       7|   BWI|  Baltimore, MD| ALB|     Albany, NY|     288|     5|      7|        0|               N|       0|        NULL|        NULL|    NULL|         NULL|             NULL|\n",
            "|2008|    1|         4|        5|   1035|      1025|   1143|      1135|           WN|     3569| N276WN|               68|            70|     53|       8|      10|   BWI|  Baltimore, MD| ALB|     Albany, NY|     288|     5|     10|        0|               N|       0|        NULL|        NULL|    NULL|         NULL|             NULL|\n",
            "|2008|    1|         4|        5|   1828|      1805|   1917|      1915|           WN|      623| N757LV|              109|           130|     97|       2|      23|   BWI|  Baltimore, MD| BHM| Birmingham, AL|     682|     3|      9|        0|               N|       0|        NULL|        NULL|    NULL|         NULL|             NULL|\n",
            "|2008|    1|         4|        5|   1317|      1310|   1401|      1420|           WN|     1857| N280WN|              104|           130|     95|     -19|       7|   BWI|  Baltimore, MD| BHM| Birmingham, AL|     682|     2|      7|        0|               N|       0|        NULL|        NULL|    NULL|         NULL|             NULL|\n",
            "|2008|    1|         5|        6|   2001|      1845|   2150|      2040|           WN|      746| N412WN|               49|            55|     39|      70|      76|   ABQ|Albuquerque, NM| AMA|   Amarillo, TX|     277|     4|      6|        0|               N|       0|           3|           0|       0|            0|               67|\n",
            "|2008|    1|         5|        6|   1124|      1005|   1227|      1120|           WN|      733| N794SW|               63|            75|     50|      67|      79|   ALB|     Albany, NY| BWI|  Baltimore, MD|     288|     3|     10|        0|               N|       0|          67|           0|       0|            0|                0|\n",
            "|2008|    1|         5|        6|   1544|      1515|   1654|      1630|           WN|     3046| N723SW|               70|            75|     56|      24|      29|   ALB|     Albany, NY| BWI|  Baltimore, MD|     288|     4|     10|        0|               N|       0|          11|           0|       0|            0|               13|\n",
            "|2008|    1|         5|        6|   1426|      1415|   1832|      1815|           WN|     1001| N366SW|              186|           180|    164|      17|      11|   AUS|     Austin, TX| BWI|  Baltimore, MD|    1342|     4|     18|        0|               N|       0|           0|           0|       6|            0|               11|\n",
            "|2008|    1|         5|        6|   1806|      1750|   2047|      2040|           WN|     2036| N614SW|              101|           110|     88|       7|      16|   BHM| Birmingham, AL| BWI|  Baltimore, MD|     682|     3|     10|        0|               N|       0|        NULL|        NULL|    NULL|         NULL|             NULL|\n",
            "|2008|    1|         5|        6|   1508|      1425|   1719|      1655|           WN|      644| N737JW|              251|           270|    237|      24|      43|   BWI|  Baltimore, MD| ABQ|Albuquerque, NM|    1670|     5|      9|        0|               N|       0|           8|           0|       0|            0|               16|\n",
            "|2008|    1|         5|        6|   1808|      1755|   1909|      1905|           WN|      236| N708SA|               61|            70|     49|       4|      13|   BWI|  Baltimore, MD| ALB|     Albany, NY|     288|     3|      9|        0|               N|       0|        NULL|        NULL|    NULL|         NULL|             NULL|\n",
            "|2008|    1|         5|        6|   1359|      1340|   1506|      1450|           WN|      323| N723SW|               67|            70|     53|      16|      19|   BWI|  Baltimore, MD| ALB|     Albany, NY|     288|     3|     11|        0|               N|       0|           6|           0|       0|            0|               10|\n",
            "|2008|    1|         5|        6|   1433|      1420|   1700|      1710|           WN|      160| N264LV|              207|           230|    196|     -10|      13|   BWI|  Baltimore, MD| AUS|     Austin, TX|    1342|     4|      7|        0|               N|       0|        NULL|        NULL|    NULL|         NULL|             NULL|\n",
            "|2008|    1|         5|        6|   1814|      1805|   1910|      1915|           WN|      623| N624SW|              116|           130|    105|      -5|       9|   BWI|  Baltimore, MD| BHM| Birmingham, AL|     682|     4|      7|        0|               N|       0|        NULL|        NULL|    NULL|         NULL|             NULL|\n",
            "+----+-----+----------+---------+-------+----------+-------+----------+-------------+---------+-------+-----------------+--------------+-------+--------+--------+------+---------------+----+---------------+--------+------+-------+---------+----------------+--------+------------+------------+--------+-------------+-----------------+\n",
            "only showing top 20 rows\n",
            "\n",
            "--- 0.7369592189788818 seconds ---\n"
          ]
        }
      ],
      "source": [
        "# Here we have added the hint to Broadcast the lookup table.\n",
        "start_time = time.time()\n",
        "\n",
        "spark.sql(\"\"\"\n",
        "select /*+ BROADCAST(lookup) */\n",
        "a.Year,\n",
        "a.Month,\n",
        "a.DayofMonth,\n",
        "a.DayOfWeek,\n",
        "a.DepTime,\n",
        "a.CRSDepTime,\n",
        "a.ArrTime,\n",
        "a.CRSArrTime,\n",
        "a.UniqueCarrier,\n",
        "a.FlightNum,\n",
        "a.TailNum,\n",
        "a.ActualElapsedTime,\n",
        "a.CRSElapsedTime,\n",
        "a.AirTime,\n",
        "a.ArrDelay,\n",
        "a.DepDelay,\n",
        "a.Origin,\n",
        "b.City as Origin_City,\n",
        "a.Dest,\n",
        "c.City as Dep_City,\n",
        "a.Distance,\n",
        "a.TaxiIn,\n",
        "a.TaxiOut,\n",
        "a.Cancelled,\n",
        "a.CancellationCode,\n",
        "a.Diverted,\n",
        "a.CarrierDelay,\n",
        "a.WeatherDelay,\n",
        "a.NASDelay,\n",
        "a.SecurityDelay,\n",
        "a.LateAircraftDelay from  delayed a\n",
        "  inner join lookup b\n",
        "    on a.Origin=b.airportCode\n",
        "  inner join lookup c\n",
        "    on a.Dest=c.airportCode\n",
        "\"\"\").show()\n",
        "\n",
        "print(\"--- %s seconds ---\" % (time.time() - start_time))"
      ]
    },
    {
      "cell_type": "code",
      "execution_count": 11,
      "metadata": {
        "colab": {
          "base_uri": "https://localhost:8080/"
        },
        "id": "5DFhjm5Z_O5Z",
        "outputId": "7e050c55-eee0-47b8-becd-fa2020f74c81"
      },
      "outputs": [
        {
          "output_type": "stream",
          "name": "stdout",
          "text": [
            "+-----------------+------------------+\n",
            "|      Origin_City|          avgDelay|\n",
            "+-----------------+------------------+\n",
            "|     Amarillo, TX|              63.3|\n",
            "|    Allentown, PA| 50.94957983193277|\n",
            "|    Asheville, NC|58.392405063291136|\n",
            "|  Bloomington, IL| 46.89930555555556|\n",
            "|    Anchorage, AK| 37.14423076923077|\n",
            "|      Atlanta, GA| 37.90491635370434|\n",
            "|       Bangor, ME| 50.27329192546584|\n",
            "|      Augusta, GA| 55.65714285714286|\n",
            "|      Bozeman, MT| 38.42857142857143|\n",
            "|  Albuquerque, NM| 32.54347826086956|\n",
            "|       Austin, TX|       37.19140625|\n",
            "|  Baton Rouge, LA|          65.50625|\n",
            "|    Baltimore, MD|  39.0767004341534|\n",
            "|       Albany, GA| 50.25352112676056|\n",
            "|        Aspen, CO|              85.0|\n",
            "|       Albany, NY| 39.14365671641791|\n",
            "|       Boston, MA| 47.71041369472183|\n",
            "|        Akron, OH|55.928196147110334|\n",
            "|Atlantic City, NJ| 64.64285714285714|\n",
            "|   Birmingham, AL| 43.17042606516291|\n",
            "+-----------------+------------------+\n",
            "only showing top 20 rows\n",
            "\n",
            "--- 7.455744743347168 seconds ---\n"
          ]
        }
      ],
      "source": [
        "# In this query we are trying to give the cluster some work to do.\n",
        "# We are creating a a common table expression (CTE) (with allColumns) that joins the two tables together\n",
        "# and then an aggregation by averaging the delays.\n",
        "\n",
        "start_time = time.time()\n",
        "\n",
        "spark.sql(\"\"\"\n",
        "with allColumns\n",
        "(select /*+ BROADCAST(lookup) */\n",
        "a.Year,\n",
        "a.Month,\n",
        "a.DayofMonth,\n",
        "a.DayOfWeek,\n",
        "a.DepTime,\n",
        "a.CRSDepTime,\n",
        "a.ArrTime,\n",
        "a.CRSArrTime,\n",
        "a.UniqueCarrier,\n",
        "a.FlightNum,\n",
        "a.TailNum,\n",
        "a.ActualElapsedTime,\n",
        "a.CRSElapsedTime,\n",
        "a.AirTime,\n",
        "a.ArrDelay,\n",
        "a.DepDelay,\n",
        "a.Origin,\n",
        "b.City as Origin_City,\n",
        "a.Dest,\n",
        "c.City as Dep_City,\n",
        "a.Distance,\n",
        "a.TaxiIn,\n",
        "a.TaxiOut,\n",
        "a.Cancelled,\n",
        "a.CancellationCode,\n",
        "a.Diverted,\n",
        "a.CarrierDelay,\n",
        "a.WeatherDelay,\n",
        "a.NASDelay,\n",
        "a.SecurityDelay,\n",
        "a.LateAircraftDelay from  delayed a\n",
        "  inner join lookup b\n",
        "    on a.Origin=b.airportCode\n",
        "  inner join lookup c\n",
        "    on a.Dest=c.airportCode\n",
        ")\n",
        "select Origin_City, avg(ArrDelay) avgDelay from allColumns group by 1\n",
        "\"\"\").show()\n",
        "\n",
        "print(\"--- %s seconds ---\" % (time.time() - start_time))"
      ]
    },
    {
      "cell_type": "code",
      "execution_count": 12,
      "metadata": {
        "colab": {
          "base_uri": "https://localhost:8080/"
        },
        "id": "XZdAUFJ3bDKQ",
        "outputId": "9ba9bc6d-8396-43b1-eb78-f92390f67e1e"
      },
      "outputs": [
        {
          "output_type": "execute_result",
          "data": {
            "text/plain": [
              "DataFrame[]"
            ]
          },
          "metadata": {},
          "execution_count": 12
        }
      ],
      "source": [
        "# Next, we are use SparkSQL to cache our table\n",
        "# Note: when we use SparkSQL to cache a table, the table is immediately cached (no lazy evaluation).\n",
        "# When using PySpark it will not be cached until an action is run.\n",
        "spark.sql(\"cache table delayed\")"
      ]
    },
    {
      "cell_type": "code",
      "execution_count": 13,
      "metadata": {
        "colab": {
          "base_uri": "https://localhost:8080/"
        },
        "id": "0eq0zGP4ciPp",
        "outputId": "650a606f-d51a-4e25-ffd2-c14f7f0771ef"
      },
      "outputs": [
        {
          "output_type": "execute_result",
          "data": {
            "text/plain": [
              "True"
            ]
          },
          "metadata": {},
          "execution_count": 13
        }
      ],
      "source": [
        "# This command checks that our table is cached\n",
        "# It will return True if it is cached.\n",
        "spark.catalog.isCached(\"delayed\")"
      ]
    },
    {
      "cell_type": "code",
      "execution_count": 14,
      "metadata": {
        "colab": {
          "base_uri": "https://localhost:8080/"
        },
        "id": "kzMGI_BfXSc8",
        "outputId": "f60cafba-c5e2-4ed5-a224-28e6baed5845"
      },
      "outputs": [
        {
          "output_type": "stream",
          "name": "stdout",
          "text": [
            "+-----------------+------------------+\n",
            "|      Origin_City|          avgDelay|\n",
            "+-----------------+------------------+\n",
            "|     Amarillo, TX|              63.3|\n",
            "|    Allentown, PA| 50.94957983193277|\n",
            "|    Asheville, NC|58.392405063291136|\n",
            "|  Bloomington, IL| 46.89930555555556|\n",
            "|    Anchorage, AK| 37.14423076923077|\n",
            "|      Atlanta, GA| 37.90491635370434|\n",
            "|       Bangor, ME| 50.27329192546584|\n",
            "|      Augusta, GA| 55.65714285714286|\n",
            "|      Bozeman, MT| 38.42857142857143|\n",
            "|  Albuquerque, NM| 32.54347826086956|\n",
            "|       Austin, TX|       37.19140625|\n",
            "|  Baton Rouge, LA|          65.50625|\n",
            "|    Baltimore, MD|  39.0767004341534|\n",
            "|       Albany, GA| 50.25352112676056|\n",
            "|        Aspen, CO|              85.0|\n",
            "|       Albany, NY| 39.14365671641791|\n",
            "|       Boston, MA| 47.71041369472183|\n",
            "|        Akron, OH|55.928196147110334|\n",
            "|Atlantic City, NJ| 64.64285714285714|\n",
            "|   Birmingham, AL| 43.17042606516291|\n",
            "+-----------------+------------------+\n",
            "only showing top 20 rows\n",
            "\n",
            "--- 2.2040069103240967 seconds ---\n"
          ]
        }
      ],
      "source": [
        "# Using the cached data, run the same query with the common table expression (CTE).\n",
        "# The performance time should improve.\n",
        "\n",
        "start_time = time.time()\n",
        "\n",
        "spark.sql(\"\"\"\n",
        "with allColumns\n",
        "(select /*+ BROADCAST(lookup) */\n",
        "a.Year,\n",
        "a.Month,\n",
        "a.DayofMonth,\n",
        "a.DayOfWeek,\n",
        "a.DepTime,\n",
        "a.CRSDepTime,\n",
        "a.ArrTime,\n",
        "a.CRSArrTime,\n",
        "a.UniqueCarrier,\n",
        "a.FlightNum,\n",
        "a.TailNum,\n",
        "a.ActualElapsedTime,\n",
        "a.CRSElapsedTime,\n",
        "a.AirTime,\n",
        "a.ArrDelay,\n",
        "a.DepDelay,\n",
        "a.Origin,\n",
        "b.City as Origin_City,\n",
        "a.Dest,\n",
        "c.City as Dep_City,\n",
        "a.Distance,\n",
        "a.TaxiIn,\n",
        "a.TaxiOut,\n",
        "a.Cancelled,\n",
        "a.CancellationCode,\n",
        "a.Diverted,\n",
        "a.CarrierDelay,\n",
        "a.WeatherDelay,\n",
        "a.NASDelay,\n",
        "a.SecurityDelay,\n",
        "a.LateAircraftDelay from  delayed a\n",
        "  inner join lookup b\n",
        "    on a.Origin=b.airportCode\n",
        "  inner join lookup c\n",
        "    on a.Dest=c.airportCode\n",
        ")\n",
        "select Origin_City, avg(ArrDelay) avgDelay from allColumns group by 1\"\"\").show()\n",
        "\n",
        "print(\"--- %s seconds ---\" % (time.time() - start_time))\n"
      ]
    },
    {
      "cell_type": "code",
      "execution_count": 15,
      "metadata": {
        "colab": {
          "base_uri": "https://localhost:8080/"
        },
        "id": "EgJRNc8h_bHI",
        "outputId": "7e6a0c04-e637-41b4-cd05-cfd09d6323eb"
      },
      "outputs": [
        {
          "output_type": "execute_result",
          "data": {
            "text/plain": [
              "DataFrame[]"
            ]
          },
          "metadata": {},
          "execution_count": 15
        }
      ],
      "source": [
        "# Remember to uncache the table as soon as you are done.\n",
        "spark.sql(\"uncache table delayed\")"
      ]
    },
    {
      "cell_type": "code",
      "execution_count": 16,
      "metadata": {
        "colab": {
          "base_uri": "https://localhost:8080/"
        },
        "id": "fhgb2iFihRbW",
        "outputId": "2a27a891-6ce6-4f80-b213-85f7d31e5c70"
      },
      "outputs": [
        {
          "output_type": "execute_result",
          "data": {
            "text/plain": [
              "False"
            ]
          },
          "metadata": {},
          "execution_count": 16
        }
      ],
      "source": [
        "#Verify that the table is no longer cached\n",
        "spark.catalog.isCached(\"delayed\")"
      ]
    },
    {
      "cell_type": "code",
      "execution_count": null,
      "metadata": {
        "id": "3XLLlG2kx4s3"
      },
      "outputs": [],
      "source": []
    }
  ],
  "metadata": {
    "colab": {
      "provenance": [],
      "include_colab_link": true
    },
    "kernelspec": {
      "display_name": "Python 3 (ipykernel)",
      "language": "python",
      "name": "python3"
    },
    "language_info": {
      "codemirror_mode": {
        "name": "ipython",
        "version": 3
      },
      "file_extension": ".py",
      "mimetype": "text/x-python",
      "name": "python",
      "nbconvert_exporter": "python",
      "pygments_lexer": "ipython3",
      "version": "3.10.4"
    }
  },
  "nbformat": 4,
  "nbformat_minor": 0
}