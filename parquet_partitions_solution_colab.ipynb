{
  "cells": [
    {
      "cell_type": "markdown",
      "metadata": {
        "id": "view-in-github",
        "colab_type": "text"
      },
      "source": [
        "<a href=\"https://colab.research.google.com/github/mascee/Spark_Exercises/blob/main/parquet_partitions_solution_colab.ipynb\" target=\"_parent\"><img src=\"https://colab.research.google.com/assets/colab-badge.svg\" alt=\"Open In Colab\"/></a>"
      ]
    },
    {
      "cell_type": "code",
      "execution_count": 1,
      "metadata": {
        "colab": {
          "base_uri": "https://localhost:8080/"
        },
        "id": "w1m9uEbLTfhq",
        "outputId": "1418fcf6-322c-4fb4-e75c-7026860d1cc1"
      },
      "outputs": [
        {
          "output_type": "stream",
          "name": "stdout",
          "text": [
            "Get:1 http://security.ubuntu.com/ubuntu jammy-security InRelease [129 kB]\n",
            "Get:2 https://developer.download.nvidia.com/compute/cuda/repos/ubuntu2204/x86_64  InRelease [1,581 B]\n",
            "Get:3 https://cloud.r-project.org/bin/linux/ubuntu jammy-cran40/ InRelease [3,626 B]\n",
            "Get:4 https://r2u.stat.illinois.edu/ubuntu jammy InRelease [6,555 B]\n",
            "Hit:5 http://archive.ubuntu.com/ubuntu jammy InRelease\n",
            "Get:6 http://archive.ubuntu.com/ubuntu jammy-updates InRelease [128 kB]\n",
            "Get:7 https://developer.download.nvidia.com/compute/cuda/repos/ubuntu2204/x86_64  Packages [1,200 kB]\n",
            "Hit:8 https://ppa.launchpadcontent.net/deadsnakes/ppa/ubuntu jammy InRelease\n",
            "Get:9 https://ppa.launchpadcontent.net/graphics-drivers/ppa/ubuntu jammy InRelease [24.3 kB]\n",
            "Get:10 http://archive.ubuntu.com/ubuntu jammy-backports InRelease [127 kB]\n",
            "Hit:11 https://ppa.launchpadcontent.net/ubuntugis/ppa/ubuntu jammy InRelease\n",
            "Get:12 http://security.ubuntu.com/ubuntu jammy-security/main amd64 Packages [2,560 kB]\n",
            "Get:13 http://security.ubuntu.com/ubuntu jammy-security/universe amd64 Packages [1,227 kB]\n",
            "Get:14 http://security.ubuntu.com/ubuntu jammy-security/restricted amd64 Packages [3,527 kB]\n",
            "Get:15 https://cloud.r-project.org/bin/linux/ubuntu jammy-cran40/ Packages [61.9 kB]\n",
            "Get:16 http://security.ubuntu.com/ubuntu jammy-security/multiverse amd64 Packages [45.2 kB]\n",
            "Get:17 https://r2u.stat.illinois.edu/ubuntu jammy/main all Packages [8,599 kB]\n",
            "Get:18 https://r2u.stat.illinois.edu/ubuntu jammy/main amd64 Packages [2,645 kB]\n",
            "Get:19 http://archive.ubuntu.com/ubuntu jammy-updates/universe amd64 Packages [1,518 kB]\n",
            "Get:20 http://archive.ubuntu.com/ubuntu jammy-updates/main amd64 Packages [2,859 kB]\n",
            "Get:21 http://archive.ubuntu.com/ubuntu jammy-updates/restricted amd64 Packages [3,663 kB]\n",
            "Fetched 28.3 MB in 8s (3,384 kB/s)\n",
            "Reading package lists... Done\n",
            "W: Skipping acquire of configured file 'main/source/Sources' as repository 'https://r2u.stat.illinois.edu/ubuntu jammy InRelease' does not seem to provide it (sources.list entry misspelt?)\n"
          ]
        }
      ],
      "source": [
        "import os\n",
        "# Find the latest version of spark 3.x  from https://downloads.apache.org/spark/ and enter as the spark version\n",
        "# For example:\n",
        "# spark_version = 'spark-3.5.4'\n",
        "spark_version = 'spark-3.5.4'\n",
        "os.environ['SPARK_VERSION']=spark_version\n",
        "\n",
        "# Install Spark and Java\n",
        "!apt-get update\n",
        "!apt-get install openjdk-11-jdk-headless -qq > /dev/null\n",
        "!wget -q https://downloads.apache.org/spark/$SPARK_VERSION/$SPARK_VERSION-bin-hadoop3.tgz\n",
        "!tar xf $SPARK_VERSION-bin-hadoop3.tgz\n",
        "!pip install -q findspark\n",
        "\n",
        "# Set Environment Variables\n",
        "os.environ[\"JAVA_HOME\"] = \"/usr/lib/jvm/java-11-openjdk-amd64\"\n",
        "os.environ[\"SPARK_HOME\"] = f\"/content/{spark_version}-bin-hadoop3\"\n",
        "\n",
        "# Start a SparkSession\n",
        "import findspark\n",
        "findspark.init()"
      ]
    },
    {
      "cell_type": "code",
      "execution_count": 2,
      "metadata": {
        "id": "wdpzXrYLTgcq"
      },
      "outputs": [],
      "source": [
        "# Import packages\n",
        "from pyspark.sql import SparkSession\n",
        "import time\n",
        "\n",
        "# Create a SparkSession\n",
        "spark = SparkSession.builder\\\n",
        "    .appName(\"SparkSQL\")\\\n",
        "    .config(\"spark.sql.debug.maxToStringFields\", 2000)\\\n",
        "    .config(\"spark.driver.memory\", \"2g\")\\\n",
        "    .getOrCreate()"
      ]
    },
    {
      "cell_type": "code",
      "execution_count": 3,
      "metadata": {
        "colab": {
          "base_uri": "https://localhost:8080/"
        },
        "id": "SyGdKF4mTguN",
        "outputId": "87e3704c-d29c-477e-e0ad-a0d01d8c2e74"
      },
      "outputs": [
        {
          "output_type": "stream",
          "name": "stdout",
          "text": [
            "+---+----+-----+----------+---------+-------+----------+-------+----------+-------------+---------+-------+-----------------+--------------+-------+--------+--------+------+----+--------+------+-------+---------+----------------+--------+------------+------------+--------+-------------+-----------------+\n",
            "| id|Year|Month|DayofMonth|DayOfWeek|DepTime|CRSDepTime|ArrTime|CRSArrTime|UniqueCarrier|FlightNum|TailNum|ActualElapsedTime|CRSElapsedTime|AirTime|ArrDelay|DepDelay|Origin|Dest|Distance|TaxiIn|TaxiOut|Cancelled|CancellationCode|Diverted|CarrierDelay|WeatherDelay|NASDelay|SecurityDelay|LateAircraftDelay|\n",
            "+---+----+-----+----------+---------+-------+----------+-------+----------+-------------+---------+-------+-----------------+--------------+-------+--------+--------+------+----+--------+------+-------+---------+----------------+--------+------------+------------+--------+-------------+-----------------+\n",
            "|  0|2008|    1|         3|        4|   2003|      1955|   2211|      2225|           WN|      335| N712SW|              128|           150|    116|     -14|       8|   IAD| TPA|     810|     4|      8|        0|               N|       0|        NULL|        NULL|    NULL|         NULL|             NULL|\n",
            "|  1|2008|    1|         3|        4|    754|       735|   1002|      1000|           WN|     3231| N772SW|              128|           145|    113|       2|      19|   IAD| TPA|     810|     5|     10|        0|               N|       0|        NULL|        NULL|    NULL|         NULL|             NULL|\n",
            "|  2|2008|    1|         3|        4|    628|       620|    804|       750|           WN|      448| N428WN|               96|            90|     76|      14|       8|   IND| BWI|     515|     3|     17|        0|               N|       0|        NULL|        NULL|    NULL|         NULL|             NULL|\n",
            "|  4|2008|    1|         3|        4|   1829|      1755|   1959|      1925|           WN|     3920| N464WN|               90|            90|     77|      34|      34|   IND| BWI|     515|     3|     10|        0|               N|       0|           2|           0|       0|            0|               32|\n",
            "|  5|2008|    1|         3|        4|   1940|      1915|   2121|      2110|           WN|      378| N726SW|              101|           115|     87|      11|      25|   IND| JAX|     688|     4|     10|        0|               N|       0|        NULL|        NULL|    NULL|         NULL|             NULL|\n",
            "|  6|2008|    1|         3|        4|   1937|      1830|   2037|      1940|           WN|      509| N763SW|              240|           250|    230|      57|      67|   IND| LAS|    1591|     3|      7|        0|               N|       0|          10|           0|       0|            0|               47|\n",
            "| 10|2008|    1|         3|        4|    706|       700|    916|       915|           WN|      100| N690SW|              130|           135|    106|       1|       6|   IND| MCO|     828|     5|     19|        0|               N|       0|        NULL|        NULL|    NULL|         NULL|             NULL|\n",
            "| 11|2008|    1|         3|        4|   1644|      1510|   1845|      1725|           WN|     1333| N334SW|              121|           135|    107|      80|      94|   IND| MCO|     828|     6|      8|        0|               N|       0|           8|           0|       0|            0|               72|\n",
            "| 15|2008|    1|         3|        4|   1029|      1020|   1021|      1010|           WN|     2272| N263WN|               52|            50|     37|      11|       9|   IND| MDW|     162|     6|      9|        0|               N|       0|        NULL|        NULL|    NULL|         NULL|             NULL|\n",
            "| 16|2008|    1|         3|        4|   1452|      1425|   1640|      1625|           WN|      675| N286WN|              228|           240|    213|      15|      27|   IND| PHX|    1489|     7|      8|        0|               N|       0|           3|           0|       0|            0|               12|\n",
            "| 17|2008|    1|         3|        4|    754|       745|    940|       955|           WN|     1144| N778SW|              226|           250|    205|     -15|       9|   IND| PHX|    1489|     5|     16|        0|               N|       0|        NULL|        NULL|    NULL|         NULL|             NULL|\n",
            "| 18|2008|    1|         3|        4|   1323|      1255|   1526|      1510|           WN|        4| N674AA|              123|           135|    110|      16|      28|   IND| TPA|     838|     4|      9|        0|               N|       0|           0|           0|       0|            0|               16|\n",
            "| 19|2008|    1|         3|        4|   1416|      1325|   1512|      1435|           WN|       54| N643SW|               56|            70|     49|      37|      51|   ISP| BWI|     220|     2|      5|        0|               N|       0|          12|           0|       0|            0|               25|\n",
            "| 21|2008|    1|         3|        4|   1657|      1625|   1754|      1735|           WN|      623| N724SW|               57|            70|     47|      19|      32|   ISP| BWI|     220|     5|      5|        0|               N|       0|           7|           0|       0|            0|               12|\n",
            "| 22|2008|    1|         3|        4|   1900|      1840|   1956|      1950|           WN|      717| N786SW|               56|            70|     49|       6|      20|   ISP| BWI|     220|     2|      5|        0|               N|       0|        NULL|        NULL|    NULL|         NULL|             NULL|\n",
            "| 23|2008|    1|         3|        4|   1039|      1030|   1133|      1140|           WN|     1244| N714CB|               54|            70|     47|      -7|       9|   ISP| BWI|     220|     2|      5|        0|               N|       0|        NULL|        NULL|    NULL|         NULL|             NULL|\n",
            "| 25|2008|    1|         3|        4|   1520|      1455|   1619|      1605|           WN|     2553| N394SW|               59|            70|     50|      14|      25|   ISP| BWI|     220|     2|      7|        0|               N|       0|        NULL|        NULL|    NULL|         NULL|             NULL|\n",
            "| 26|2008|    1|         3|        4|   1422|      1255|   1657|      1610|           WN|      188| N215WN|              155|           195|    143|      47|      87|   ISP| FLL|    1093|     6|      6|        0|               N|       0|          40|           0|       0|            0|                7|\n",
            "| 27|2008|    1|         3|        4|   1954|      1925|   2239|      2235|           WN|     1754| N243WN|              165|           190|    155|       4|      29|   ISP| FLL|    1093|     3|      7|        0|               N|       0|        NULL|        NULL|    NULL|         NULL|             NULL|\n",
            "| 30|2008|    1|         3|        4|   2107|      1945|   2334|      2230|           WN|      362| N798SW|              147|           165|    134|      64|      82|   ISP| MCO|     972|     6|      7|        0|               N|       0|           5|           0|       0|            0|               59|\n",
            "+---+----+-----+----------+---------+-------+----------+-------+----------+-------------+---------+-------+-----------------+--------------+-------+--------+--------+------+----+--------+------+-------+---------+----------------+--------+------------+------------+--------+-------------+-----------------+\n",
            "only showing top 20 rows\n",
            "\n"
          ]
        }
      ],
      "source": [
        "# Read in data from S3 Bucket\n",
        "from pyspark import SparkFiles\n",
        "url = \"https://2u-data-curriculum-team.s3.amazonaws.com/dataviz-classroom/v1.2/22-big-data/3/DelayedFlights.csv\"\n",
        "spark.sparkContext.addFile(url)\n",
        "df = spark.read.csv(SparkFiles.get(\"DelayedFlights.csv\"), sep=\",\", header=True)\n",
        "df.show()"
      ]
    },
    {
      "cell_type": "code",
      "execution_count": 4,
      "metadata": {
        "id": "SDIRdbad1r2X"
      },
      "outputs": [],
      "source": [
        "# Create a temporary view\n",
        "df.createOrReplaceTempView('delays')"
      ]
    },
    {
      "cell_type": "code",
      "execution_count": 5,
      "metadata": {
        "colab": {
          "base_uri": "https://localhost:8080/"
        },
        "id": "daHsHUbSTzaj",
        "outputId": "c5a818d3-05cc-447b-fa6b-a9cb25a292c9"
      },
      "outputs": [
        {
          "output_type": "stream",
          "name": "stdout",
          "text": [
            "+-------------+-------------------+--------+\n",
            "|UniqueCarrier|sum(CRSElapsedTime)|count(1)|\n",
            "+-------------+-------------------+--------+\n",
            "|           UA|        1.3998834E7|   82022|\n",
            "|           AA|        1.7721836E7|  103120|\n",
            "|           NW|          6761017.0|   48410|\n",
            "|           EV|          4284049.0|   42782|\n",
            "|           B6|          4169064.0|   22868|\n",
            "|           DL|          8245701.0|   48888|\n",
            "|           OO|          6883377.0|   73680|\n",
            "|           F9|          2338358.0|   16006|\n",
            "|           YV|          3216400.0|   34890|\n",
            "|           US|          8759953.0|   53873|\n",
            "|           AQ|            99698.0|     750|\n",
            "|           MQ|          7710479.0|   82505|\n",
            "|           OH|          3318613.0|   29152|\n",
            "|           HA|           345580.0|    2597|\n",
            "|           XE|          7386620.0|   62539|\n",
            "|           AS|          2527656.0|   16553|\n",
            "|           FL|          4807695.0|   37201|\n",
            "|           CO|          8693653.0|   44282|\n",
            "|           WN|        2.4182455E7|  214624|\n",
            "|           9E|          3255692.0|   31833|\n",
            "+-------------+-------------------+--------+\n",
            "\n",
            "--- 7.435506820678711 seconds ---\n"
          ]
        }
      ],
      "source": [
        "# Run a sql query that groups the data on UniqueCarrier\n",
        "# note the time functions will track the time it takes to load and run the data\n",
        "# we are only interested in the time it take to run so run this cell twice.\n",
        "start_time = time.time()\n",
        "\n",
        "spark.sql(\"\"\"select UniqueCarrier,sum(CRSElapsedTime), count(*) from delays group by 1\"\"\").show()\n",
        "\n",
        "print(\"--- %s seconds ---\" % (time.time() - start_time))"
      ]
    },
    {
      "cell_type": "code",
      "execution_count": 6,
      "metadata": {
        "id": "EVQQPzgiUgTg"
      },
      "outputs": [],
      "source": [
        "# Write out the data in parquet format\n",
        "df.write.parquet('parquet_delayed', mode='overwrite')"
      ]
    },
    {
      "cell_type": "code",
      "execution_count": 7,
      "metadata": {
        "id": "1fjWZBkMUuIQ"
      },
      "outputs": [],
      "source": [
        "# Read in our new parquet formatted data\n",
        "p_df=spark.read.parquet('parquet_delayed')"
      ]
    },
    {
      "cell_type": "code",
      "execution_count": 8,
      "metadata": {
        "id": "O9Vj-1tAVMxZ"
      },
      "outputs": [],
      "source": [
        "# A parquet formatted DataFrame has all the same methods as a row-based dataframe\n",
        "# We can convert the dataframe to a view.\n",
        "p_df.createOrReplaceTempView('p_delays')"
      ]
    },
    {
      "cell_type": "code",
      "execution_count": 9,
      "metadata": {
        "colab": {
          "base_uri": "https://localhost:8080/"
        },
        "id": "W1upPNu4VFnm",
        "outputId": "5a66b2ce-c5a6-4ff4-f810-835ab86d6583"
      },
      "outputs": [
        {
          "output_type": "stream",
          "name": "stdout",
          "text": [
            "+-------------+--------+\n",
            "|UniqueCarrier|count(1)|\n",
            "+-------------+--------+\n",
            "|           UA|   82022|\n",
            "|           AA|  103120|\n",
            "|           NW|   48410|\n",
            "|           EV|   42782|\n",
            "|           B6|   22868|\n",
            "|           DL|   48888|\n",
            "|           OO|   73680|\n",
            "|           F9|   16006|\n",
            "|           YV|   34890|\n",
            "|           US|   53873|\n",
            "|           AQ|     750|\n",
            "|           MQ|   82505|\n",
            "|           OH|   29152|\n",
            "|           HA|    2597|\n",
            "|           XE|   62539|\n",
            "|           AS|   16553|\n",
            "|           FL|   37201|\n",
            "|           CO|   44282|\n",
            "|           WN|  214624|\n",
            "|           9E|   31833|\n",
            "+-------------+--------+\n",
            "\n",
            "--- 1.3369975090026855 seconds ---\n"
          ]
        }
      ],
      "source": [
        "start_time = time.time()\n",
        "\n",
        "spark.sql(\"\"\"select UniqueCarrier, count(*) from p_delays group by 1\"\"\").show()\n",
        "\n",
        "print(\"--- %s seconds ---\" % (time.time() - start_time))"
      ]
    },
    {
      "cell_type": "code",
      "execution_count": 11,
      "metadata": {
        "colab": {
          "base_uri": "https://localhost:8080/"
        },
        "id": "dYigWiix1_vm",
        "outputId": "59f1820f-fdc3-4e2e-ee63-a788fde3353d"
      },
      "outputs": [
        {
          "output_type": "stream",
          "name": "stdout",
          "text": [
            "+-------------+-------------------+--------+\n",
            "|UniqueCarrier|sum(CRSElapsedTime)|count(1)|\n",
            "+-------------+-------------------+--------+\n",
            "|           UA|        1.3998834E7|   82022|\n",
            "|           AA|        1.7721836E7|  103120|\n",
            "|           NW|          6761017.0|   48410|\n",
            "|           EV|          4284049.0|   42782|\n",
            "|           B6|          4169064.0|   22868|\n",
            "|           DL|          8245701.0|   48888|\n",
            "|           OO|          6883377.0|   73680|\n",
            "|           F9|          2338358.0|   16006|\n",
            "|           YV|          3216400.0|   34890|\n",
            "|           US|          8759953.0|   53873|\n",
            "|           AQ|            99698.0|     750|\n",
            "|           MQ|          7710479.0|   82505|\n",
            "|           OH|          3318613.0|   29152|\n",
            "|           HA|           345580.0|    2597|\n",
            "|           XE|          7386620.0|   62539|\n",
            "|           AS|          2527656.0|   16553|\n",
            "|           FL|          4807695.0|   37201|\n",
            "|           CO|          8693653.0|   44282|\n",
            "|           WN|        2.4182455E7|  214624|\n",
            "|           9E|          3255692.0|   31833|\n",
            "+-------------+-------------------+--------+\n",
            "\n",
            "--- 0.8756322860717773 seconds ---\n"
          ]
        }
      ],
      "source": [
        "# Here is another sample\n",
        "start_time = time.time()\n",
        "\n",
        "spark.sql(\"\"\"select UniqueCarrier,sum(CRSElapsedTime), count(*) from p_delays group by 1\"\"\").show()\n",
        "\n",
        "print(\"--- %s seconds ---\" % (time.time() - start_time))"
      ]
    },
    {
      "cell_type": "code",
      "execution_count": 17,
      "metadata": {
        "id": "RxtycEtOVQrZ"
      },
      "outputs": [],
      "source": [
        "# Partition our data by UniqueCarrier\n",
        "df.write.partitionBy(\"UniqueCarrier\").mode(\"overwrite\").parquet(\"delayed_partitioned\")"
      ]
    },
    {
      "cell_type": "code",
      "execution_count": 18,
      "metadata": {
        "id": "TMpsNLamXM9N"
      },
      "outputs": [],
      "source": [
        "# Read in our new parquet formatted data\n",
        "p_df_p=spark.read.parquet('delayed_partitioned')"
      ]
    },
    {
      "cell_type": "code",
      "execution_count": 19,
      "metadata": {
        "id": "KX3wglAtWEbI"
      },
      "outputs": [],
      "source": [
        "# Convert the DataFrame to a view.\n",
        "p_df_p.createOrReplaceTempView('p_delays_p')"
      ]
    },
    {
      "cell_type": "code",
      "execution_count": 20,
      "metadata": {
        "colab": {
          "base_uri": "https://localhost:8080/"
        },
        "id": "LOR5HfhRVzmG",
        "outputId": "a76fd35b-f089-47db-d840-c5bff7bc4564"
      },
      "outputs": [
        {
          "output_type": "stream",
          "name": "stdout",
          "text": [
            "+-------------+--------+\n",
            "|UniqueCarrier|count(1)|\n",
            "+-------------+--------+\n",
            "|           UA|   82022|\n",
            "|           AA|  103120|\n",
            "|           NW|   48410|\n",
            "|           DL|   48888|\n",
            "|           OO|   73680|\n",
            "|           US|   53873|\n",
            "|           MQ|   82505|\n",
            "|           XE|   62539|\n",
            "|           CO|   44282|\n",
            "|           WN|  214624|\n",
            "|           EV|   42782|\n",
            "|           B6|   22868|\n",
            "|           F9|   16006|\n",
            "|           YV|   34890|\n",
            "|           AQ|     750|\n",
            "|           OH|   29152|\n",
            "|           HA|    2597|\n",
            "|           AS|   16553|\n",
            "|           FL|   37201|\n",
            "|           9E|   31833|\n",
            "+-------------+--------+\n",
            "\n",
            "--- 0.5682978630065918 seconds ---\n"
          ]
        }
      ],
      "source": [
        "# Query the partitioned data on the Partition key.\n",
        "start_time = time.time()\n",
        "\n",
        "spark.sql(\"\"\"select UniqueCarrier, count(*) from p_delays_p group by 1\"\"\").show()\n",
        "\n",
        "print(\"--- %s seconds ---\" % (time.time() - start_time))"
      ]
    },
    {
      "cell_type": "code",
      "execution_count": 21,
      "metadata": {
        "colab": {
          "base_uri": "https://localhost:8080/"
        },
        "id": "w1LbeemvWsRa",
        "outputId": "377da016-eb15-44bf-f833-ed5289609289"
      },
      "outputs": [
        {
          "output_type": "stream",
          "name": "stdout",
          "text": [
            "+-------------+-------------------+\n",
            "|UniqueCarrier|sum(CRSElapsedTime)|\n",
            "+-------------+-------------------+\n",
            "|           UA|        1.3998834E7|\n",
            "|           AA|        1.7721836E7|\n",
            "|           NW|          6761017.0|\n",
            "|           DL|          8245701.0|\n",
            "|           OO|          6883377.0|\n",
            "|           US|          8759953.0|\n",
            "|           MQ|          7710479.0|\n",
            "|           XE|          7386620.0|\n",
            "|           CO|          8693653.0|\n",
            "|           WN|        2.4182455E7|\n",
            "|           EV|          4284049.0|\n",
            "|           B6|          4169064.0|\n",
            "|           F9|          2338358.0|\n",
            "|           YV|          3216400.0|\n",
            "|           AQ|            99698.0|\n",
            "|           OH|          3318613.0|\n",
            "|           HA|           345580.0|\n",
            "|           AS|          2527656.0|\n",
            "|           FL|          4807695.0|\n",
            "|           9E|          3255692.0|\n",
            "+-------------+-------------------+\n",
            "\n",
            "--- 2.0538032054901123 seconds ---\n"
          ]
        }
      ],
      "source": [
        "# Grouping by partition key and aggregating data.\n",
        "start_time = time.time()\n",
        "\n",
        "spark.sql(\"\"\"select UniqueCarrier,sum(CRSElapsedTime) from p_delays_p group by 1\"\"\").show()\n",
        "\n",
        "print(\"--- %s seconds ---\" % (time.time() - start_time))"
      ]
    },
    {
      "cell_type": "code",
      "execution_count": 22,
      "metadata": {
        "colab": {
          "base_uri": "https://localhost:8080/"
        },
        "id": "e3wGOJK3Xrnu",
        "outputId": "c73846c6-60c9-4452-a3cd-0a9d6a69ae88"
      },
      "outputs": [
        {
          "output_type": "stream",
          "name": "stdout",
          "text": [
            "+-------------+-------------+\n",
            "|UniqueCarrier|total_delayed|\n",
            "+-------------+-------------+\n",
            "|           US|    2077273.0|\n",
            "+-------------+-------------+\n",
            "\n",
            "--- 0.812269926071167 seconds ---\n"
          ]
        }
      ],
      "source": [
        "# Another query filtering on the key.\n",
        "start_time = time.time()\n",
        "spark.sql(\"\"\"Select UniqueCarrier, sum(DepDelay) as total_delayed from p_delays_p where UniqueCarrier='US' group by 1\"\"\").show()\n",
        "print(\"--- %s seconds ---\" % (time.time() - start_time))"
      ]
    },
    {
      "cell_type": "code",
      "execution_count": 23,
      "metadata": {
        "colab": {
          "base_uri": "https://localhost:8080/"
        },
        "id": "FhBFOFWe2aEs",
        "outputId": "24bf30ee-c145-46ef-8aea-7f666a2489c3"
      },
      "outputs": [
        {
          "output_type": "stream",
          "name": "stdout",
          "text": [
            "+-------------+-------------+\n",
            "|UniqueCarrier|total_delayed|\n",
            "+-------------+-------------+\n",
            "|           US|    2077273.0|\n",
            "+-------------+-------------+\n",
            "\n",
            "--- 0.938183069229126 seconds ---\n"
          ]
        }
      ],
      "source": [
        "# Same query as above against the parquet (non-partitioned) data.\n",
        "start_time = time.time()\n",
        "spark.sql(\"\"\"Select UniqueCarrier, sum(DepDelay) as total_delayed from p_delays where UniqueCarrier='US' group by 1\"\"\").show()\n",
        "print(\"--- %s seconds ---\" % (time.time() - start_time))"
      ]
    },
    {
      "cell_type": "code",
      "execution_count": 24,
      "metadata": {
        "colab": {
          "base_uri": "https://localhost:8080/"
        },
        "id": "xdQekaM02cX5",
        "outputId": "ba734e4c-3d1a-4e44-a22c-a816fc376f2d"
      },
      "outputs": [
        {
          "output_type": "stream",
          "name": "stdout",
          "text": [
            "+-------------+-------+\n",
            "|UniqueCarrier|TailNum|\n",
            "+-------------+-------+\n",
            "|           WN| N712SW|\n",
            "+-------------+-------+\n",
            "\n",
            "--- 0.7862582206726074 seconds ---\n"
          ]
        }
      ],
      "source": [
        "# Here is a query that doesn't use the partition key at all (against the parquet data)\n",
        "start_time = time.time()\n",
        "spark.sql(\"\"\"Select distinct UniqueCarrier, TailNum from p_delays where TailNum='N712SW' \"\"\").show()\n",
        "print(\"--- %s seconds ---\" % (time.time() - start_time))"
      ]
    },
    {
      "cell_type": "code",
      "execution_count": 25,
      "metadata": {
        "colab": {
          "base_uri": "https://localhost:8080/"
        },
        "id": "9FXXTzci2e5W",
        "outputId": "2ae1b5cd-de1c-4a45-a794-c7e864f791d9"
      },
      "outputs": [
        {
          "output_type": "stream",
          "name": "stdout",
          "text": [
            "+-------------+-------+\n",
            "|UniqueCarrier|TailNum|\n",
            "+-------------+-------+\n",
            "|           WN| N712SW|\n",
            "+-------------+-------+\n",
            "\n",
            "--- 1.5582687854766846 seconds ---\n"
          ]
        }
      ],
      "source": [
        "# Here is a query that doesn't use the partition key at all (against the partitioned parquet data)\n",
        "start_time = time.time()\n",
        "spark.sql(\"\"\"Select distinct UniqueCarrier, TailNum from p_delays_p where TailNum='N712SW' \"\"\").show()\n",
        "print(\"--- %s seconds ---\" % (time.time() - start_time))"
      ]
    },
    {
      "cell_type": "code",
      "execution_count": null,
      "metadata": {
        "id": "9652Mii42hya"
      },
      "outputs": [],
      "source": []
    }
  ],
  "metadata": {
    "colab": {
      "provenance": [],
      "include_colab_link": true
    },
    "kernelspec": {
      "display_name": "Python 3 (ipykernel)",
      "language": "python",
      "name": "python3"
    },
    "language_info": {
      "codemirror_mode": {
        "name": "ipython",
        "version": 3
      },
      "file_extension": ".py",
      "mimetype": "text/x-python",
      "name": "python",
      "nbconvert_exporter": "python",
      "pygments_lexer": "ipython3",
      "version": "3.10.4"
    }
  },
  "nbformat": 4,
  "nbformat_minor": 0
}